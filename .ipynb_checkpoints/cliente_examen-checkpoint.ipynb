{
 "cells": [
  {
   "cell_type": "code",
   "execution_count": 5,
   "id": "52deaafe-96cf-4d6b-8b9e-dbb1b233fe8a",
   "metadata": {},
   "outputs": [],
   "source": [
    "import threading\n",
    "import sys\n",
    "import socket\n",
    "import pickle\n",
    "import os"
   ]
  },
  {
   "cell_type": "code",
   "execution_count": null,
   "id": "e2b4fb85-e3f9-4a9d-a43c-252a2d547367",
   "metadata": {},
   "outputs": [
    {
     "name": "stdin",
     "output_type": "stream",
     "text": [
      "Intoduzca la IP del servidor ?   127.0.0.1\n",
      "Intoduzca el PUERTO del servidor ?   33000\n",
      "Intoduzca su NICKNAME   Nortton\n"
     ]
    },
    {
     "name": "stderr",
     "output_type": "stream",
     "text": [
      "/var/folders/tt/7wz0q7wj7v5bg29029d3_nz00000gn/T/ipykernel_2024/1550258347.py:10: DeprecationWarning: currentThread() is deprecated, use current_thread() instead\n",
      "  print('\\n\\tProceso con PID = ',os.getpid(), '\\n\\tHilo PRINCIPAL con ID =',threading.currentThread().getName(), '\\n\\tHilo en modo DAEMON = ', threading.currentThread().isDaemon(),'\\n\\tTotal Hilos activos en este punto del programa =', threading.active_count())\n",
      "/var/folders/tt/7wz0q7wj7v5bg29029d3_nz00000gn/T/ipykernel_2024/1550258347.py:10: DeprecationWarning: getName() is deprecated, get the name attribute instead\n",
      "  print('\\n\\tProceso con PID = ',os.getpid(), '\\n\\tHilo PRINCIPAL con ID =',threading.currentThread().getName(), '\\n\\tHilo en modo DAEMON = ', threading.currentThread().isDaemon(),'\\n\\tTotal Hilos activos en este punto del programa =', threading.active_count())\n",
      "/var/folders/tt/7wz0q7wj7v5bg29029d3_nz00000gn/T/ipykernel_2024/1550258347.py:10: DeprecationWarning: isDaemon() is deprecated, get the daemon attribute instead\n",
      "  print('\\n\\tProceso con PID = ',os.getpid(), '\\n\\tHilo PRINCIPAL con ID =',threading.currentThread().getName(), '\\n\\tHilo en modo DAEMON = ', threading.currentThread().isDaemon(),'\\n\\tTotal Hilos activos en este punto del programa =', threading.active_count())\n",
      "/var/folders/tt/7wz0q7wj7v5bg29029d3_nz00000gn/T/ipykernel_2024/1550258347.py:22: DeprecationWarning: currentThread() is deprecated, use current_thread() instead\n",
      "  print('\\nHilo RECIBIR con ID =',threading.currentThread().getName(), '\\n\\tPertenece al PROCESO con PID', os.getpid(), \"\\n\\tHilos activos TOTALES \", threading.active_count())\n",
      "/var/folders/tt/7wz0q7wj7v5bg29029d3_nz00000gn/T/ipykernel_2024/1550258347.py:22: DeprecationWarning: getName() is deprecated, get the name attribute instead\n",
      "  print('\\nHilo RECIBIR con ID =',threading.currentThread().getName(), '\\n\\tPertenece al PROCESO con PID', os.getpid(), \"\\n\\tHilos activos TOTALES \", threading.active_count())\n"
     ]
    },
    {
     "name": "stdout",
     "output_type": "stream",
     "text": [
      "\n",
      "\tProceso con PID =  2024 \n",
      "\tHilo PRINCIPAL con ID = MainThread \n",
      "\tHilo en modo DAEMON =  False \n",
      "\tTotal Hilos activos en este punto del programa = 9\n",
      "\n",
      "Hilo RECIBIR con ID = Thread-6 (recibir) \n",
      "\tPertenece al PROCESO con PID 2024 \n",
      "\tHilos activos TOTALES  10\n"
     ]
    }
   ],
   "source": [
    "\n",
    "class Cliente():\n",
    "\n",
    "\tdef __init__(self, host=input(\"Intoduzca la IP del servidor ?  \"), \n",
    "                 port=int(input(\"Intoduzca el PUERTO del servidor ?  \")), \n",
    "                 nickname=input(\"Intoduzca su NICKNAME  \")): \n",
    "        \n",
    "\t\tself.s = socket.socket()\n",
    "\t\tself.s.connect((host, int(port)))\n",
    "\t\tself.enviar('$'+nickname)\n",
    "\t\tprint('\\n\\tProceso con PID = ',os.getpid(), '\\n\\tHilo PRINCIPAL con ID =',threading.currentThread().getName(), '\\n\\tHilo en modo DAEMON = ', threading.currentThread().isDaemon(),'\\n\\tTotal Hilos activos en este punto del programa =', threading.active_count())\n",
    "\t\tthreading.Thread(target=self.recibir, daemon=True).start()\n",
    "\n",
    "\t\twhile True: \n",
    "\t\t\tmsg = input('\\nEscriba texto ?   ** Enviar = ENTER   ** Salir Chat = 1 \\n')\n",
    "\t\t\tif msg != '1' : self.enviar(msg)\n",
    "\t\t\telse:\n",
    "\t\t\t\tprint(\" **** ADIOS PRINGAO; cierro socket y mato al CLIENTE con PID = \", os.getpid())\n",
    "\t\t\t\tself.s.close()\n",
    "\t\t\t\tsys.exit()\n",
    "\n",
    "\tdef recibir(self): #funcion que especifica el hilo que recibo\n",
    "\t\tprint('\\nHilo RECIBIR con ID =',threading.currentThread().getName(), '\\n\\tPertenece al PROCESO con PID', os.getpid(), \"\\n\\tHilos activos TOTALES \", threading.active_count())\n",
    "\t\twhile True: #bucle para pedir el mensaje\n",
    "\t\t\ttry:\n",
    "\t\t\t\tdata = self.s.recv(32)\n",
    "\t\t\t\tif data: print(pickle.loads(data)) \n",
    "\t\t\texcept: pass\n",
    "\n",
    "\tdef enviar(self, msg):\n",
    "\t\tself.s.send(pickle.dumps(msg))\n",
    "\n",
    "arrancar = Cliente()\n"
   ]
  },
  {
   "cell_type": "code",
   "execution_count": null,
   "id": "46d5caf6-ea52-4f1d-9feb-0429b5e202c6",
   "metadata": {},
   "outputs": [],
   "source": []
  }
 ],
 "metadata": {
  "kernelspec": {
   "display_name": "Python 3 (ipykernel)",
   "language": "python",
   "name": "python3"
  },
  "language_info": {
   "codemirror_mode": {
    "name": "ipython",
    "version": 3
   },
   "file_extension": ".py",
   "mimetype": "text/x-python",
   "name": "python",
   "nbconvert_exporter": "python",
   "pygments_lexer": "ipython3",
   "version": "3.10.7"
  }
 },
 "nbformat": 4,
 "nbformat_minor": 5
}
