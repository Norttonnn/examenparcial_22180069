{
 "cells": [
  {
   "cell_type": "code",
   "execution_count": 2,
   "id": "2d3cda5d-1135-4c70-b724-3a4aab7faee3",
   "metadata": {},
   "outputs": [
    {
     "name": "stdin",
     "output_type": "stream",
     "text": [
      "Que puerto quiere usar ?  33000\n"
     ]
    },
    {
     "name": "stdout",
     "output_type": "stream",
     "text": [
      "\n",
      "Su IP actual es :  127.0.0.1\n",
      "\n",
      "\tProceso con PID =  2019 \n",
      "\tHilo PRINCIPAL con ID = MainThread \n",
      "\tHilo en modo DAEMON =  False \n",
      "\tTotal Hilos activos en este punto del programa = 10\n"
     ]
    },
    {
     "name": "stderr",
     "output_type": "stream",
     "text": [
      "/var/folders/tt/7wz0q7wj7v5bg29029d3_nz00000gn/T/ipykernel_2019/2250060212.py:14: DeprecationWarning: getName() is deprecated, get the name attribute instead\n",
      "  print('\\n\\tProceso con PID = ', os.getpid(), '\\n\\tHilo PRINCIPAL con ID =', threading.current_thread().getName(),\n",
      "/var/folders/tt/7wz0q7wj7v5bg29029d3_nz00000gn/T/ipykernel_2019/2250060212.py:15: DeprecationWarning: isDaemon() is deprecated, get the daemon attribute instead\n",
      "  '\\n\\tHilo en modo DAEMON = ', threading.current_thread().isDaemon(),\n"
     ]
    },
    {
     "ename": "OSError",
     "evalue": "[Errno 48] Address already in use",
     "output_type": "error",
     "traceback": [
      "\u001b[0;31m---------------------------------------------------------------------------\u001b[0m",
      "\u001b[0;31mOSError\u001b[0m                                   Traceback (most recent call last)",
      "Cell \u001b[0;32mIn [2], line 86\u001b[0m\n\u001b[1;32m     82\u001b[0m             \u001b[38;5;28;01mexcept\u001b[39;00m:\n\u001b[1;32m     83\u001b[0m                 \u001b[38;5;28mself\u001b[39m\u001b[38;5;241m.\u001b[39mclientes\u001b[38;5;241m.\u001b[39mremove(c)\n\u001b[0;32m---> 86\u001b[0m arrancar \u001b[38;5;241m=\u001b[39m \u001b[43mServidor\u001b[49m\u001b[43m(\u001b[49m\u001b[43m)\u001b[49m\n",
      "Cell \u001b[0;32mIn [2], line 18\u001b[0m, in \u001b[0;36mServidor.__init__\u001b[0;34m(self, host, port)\u001b[0m\n\u001b[1;32m     14\u001b[0m \u001b[38;5;28mprint\u001b[39m(\u001b[38;5;124m'\u001b[39m\u001b[38;5;130;01m\\n\u001b[39;00m\u001b[38;5;130;01m\\t\u001b[39;00m\u001b[38;5;124mProceso con PID = \u001b[39m\u001b[38;5;124m'\u001b[39m, os\u001b[38;5;241m.\u001b[39mgetpid(), \u001b[38;5;124m'\u001b[39m\u001b[38;5;130;01m\\n\u001b[39;00m\u001b[38;5;130;01m\\t\u001b[39;00m\u001b[38;5;124mHilo PRINCIPAL con ID =\u001b[39m\u001b[38;5;124m'\u001b[39m, threading\u001b[38;5;241m.\u001b[39mcurrent_thread()\u001b[38;5;241m.\u001b[39mgetName(),\n\u001b[1;32m     15\u001b[0m       \u001b[38;5;124m'\u001b[39m\u001b[38;5;130;01m\\n\u001b[39;00m\u001b[38;5;130;01m\\t\u001b[39;00m\u001b[38;5;124mHilo en modo DAEMON = \u001b[39m\u001b[38;5;124m'\u001b[39m, threading\u001b[38;5;241m.\u001b[39mcurrent_thread()\u001b[38;5;241m.\u001b[39misDaemon(),\n\u001b[1;32m     16\u001b[0m       \u001b[38;5;124m'\u001b[39m\u001b[38;5;130;01m\\n\u001b[39;00m\u001b[38;5;130;01m\\t\u001b[39;00m\u001b[38;5;124mTotal Hilos activos en este punto del programa =\u001b[39m\u001b[38;5;124m'\u001b[39m, threading\u001b[38;5;241m.\u001b[39mactive_count())\n\u001b[1;32m     17\u001b[0m \u001b[38;5;28mself\u001b[39m\u001b[38;5;241m.\u001b[39ms \u001b[38;5;241m=\u001b[39m socket\u001b[38;5;241m.\u001b[39msocket()\n\u001b[0;32m---> 18\u001b[0m \u001b[38;5;28;43mself\u001b[39;49m\u001b[38;5;241;43m.\u001b[39;49m\u001b[43ms\u001b[49m\u001b[38;5;241;43m.\u001b[39;49m\u001b[43mbind\u001b[49m\u001b[43m(\u001b[49m\u001b[43m(\u001b[49m\u001b[38;5;28;43mstr\u001b[39;49m\u001b[43m(\u001b[49m\u001b[43mhost\u001b[49m\u001b[43m)\u001b[49m\u001b[43m,\u001b[49m\u001b[43m \u001b[49m\u001b[38;5;28;43mint\u001b[39;49m\u001b[43m(\u001b[49m\u001b[43mport\u001b[49m\u001b[43m)\u001b[49m\u001b[43m)\u001b[49m\u001b[43m)\u001b[49m\n\u001b[1;32m     19\u001b[0m \u001b[38;5;28mself\u001b[39m\u001b[38;5;241m.\u001b[39ms\u001b[38;5;241m.\u001b[39mlisten(\u001b[38;5;241m30\u001b[39m)\n\u001b[1;32m     20\u001b[0m \u001b[38;5;28mself\u001b[39m\u001b[38;5;241m.\u001b[39ms\u001b[38;5;241m.\u001b[39msetblocking(\u001b[38;5;28;01mFalse\u001b[39;00m)\n",
      "\u001b[0;31mOSError\u001b[0m: [Errno 48] Address already in use"
     ]
    },
    {
     "name": "stdout",
     "output_type": "stream",
     "text": [
      "\n",
      "Conexion aceptada via ('127.0.0.1', 50507)\n",
      "\n",
      "Clientes conectados Right now =  2\n",
      "$NortoncitoCUM\n",
      "$Nortton\n",
      "$Nortton: $Nortton\n",
      "Clientes conectados Right now =  2\n",
      "$NortoncitoCUM\n",
      "$Nortton\n",
      "$Nortton: $Nortton\n"
     ]
    }
   ],
   "source": [
    "import socket\n",
    "import threading\n",
    "import sys\n",
    "import pickle\n",
    "import os\n",
    "\n",
    "\n",
    "class Servidor():\n",
    "\n",
    "    def __init__(self, host=socket.gethostname(), port=int(input(\"¿Que puerto quieres usar? \"))):\n",
    "        self.clientes = []\n",
    "        self.nicknames = []\n",
    "        print('\\nSu IP actual es : ', socket.gethostbyname(host))\n",
    "        print('\\n\\tProceso con PID = ', os.getpid(), '\\n\\tHilo PRINCIPAL con ID =', threading.current_thread().getName(),\n",
    "              '\\n\\tHilo en modo DAEMON = ', threading.current_thread().isDaemon(),\n",
    "              '\\n\\tTotal Hilos activos en este punto del programa =', threading.active_count())\n",
    "        self.s = socket.socket()\n",
    "        self.s.bind((str(host), int(port)))\n",
    "        self.s.listen(30)\n",
    "        self.s.setblocking(False)\n",
    "\n",
    "        threading.Thread(target=self.aceptarC, daemon=True).start()\n",
    "        threading.Thread(target=self.procesarC, daemon=True).start()\n",
    "\n",
    "        while True:  # funcion de cerrar\n",
    "            msg = input('\\n << SALIR = 1 >> \\n')\n",
    "            if msg == '1':\n",
    "                print(\" **** Talue; cierro socket y mato SERVER con PID = \", os.getpid())\n",
    "                self.s.close()\n",
    "                sys.exit()\n",
    "            else:\n",
    "                pass\n",
    "\n",
    "    def aceptarC(self):  \n",
    "        print('\\nHilo ACEPTAR con ID =', threading.currentThread().getName(), \n",
    "              '\\n\\tHilo en modo DAEMON = ',\n",
    "              threading.current_thread().isDaemon(), \n",
    "              '\\n\\tPertenece al PROCESO con PID', os.getpid(),\n",
    "              \"\\n\\tHilos activos TOTALES \", threading.active_count())\n",
    "\n",
    "        while True:\n",
    "            try:\n",
    "                conn, addr = self.s.accept()\n",
    "                print(f\"\\nConexion aceptada via {addr}\\n\")\n",
    "                conn.setblocking(False)\n",
    "                self.clientes.append(conn)\n",
    "            except:\n",
    "                pass\n",
    "\n",
    "    def procesarC(self): \n",
    "        print('\\nHilo PROCESAR con ID =', threading.current_thread().getName(), \n",
    "              '\\n\\tHilo en modo DAEMON = ',\n",
    "              threading.current_thread().isDaemon(), \n",
    "              '\\n\\tPertenece al PROCESO con PID', os.getpid(),\n",
    "              \"\\n\\tHilos activos TOTALES \", threading.active_count())\n",
    "        while True:\n",
    "            if len(self.clientes) > 0:\n",
    "                for c in self.clientes:\n",
    "                    try:\n",
    "                        data = c.recv(32)\n",
    "                        mensaje = pickle.loads(data)\n",
    "                        if mensaje.startswith('#'): \n",
    "                            self.nicknames.append(mensaje)\n",
    "                        if data: self.broadcast(data, c)\n",
    "                    except:\n",
    "                        pass\n",
    "\n",
    "    def broadcast(self, msg, cliente): \n",
    "        for c in self.clientes:\n",
    "            print(\"Clientes conectados ahorita mismo= \", len(self.clientes))\n",
    "            print(*self.nicknames, sep=\"\\n\") \n",
    "            try:\n",
    "                if len(self.nicknames) > 0:\n",
    "                    for x in self.clientes:\n",
    "                        if x == cliente: \n",
    "                            numero = self.clientes.index(x)\n",
    "                    mensajeconnick = self.nicknames[numero] + \": \" + pickle.loads(msg)  \n",
    "                    print(mensajeconnick)\n",
    "                    c.send(pickle.dumps(mensajeconnick))\n",
    "                    with open('22180069.txt', 'a') as f: \n",
    "                        f.write('\\n' + mensajeconnick)\n",
    "            except:\n",
    "                self.clientes.remove(c)\n",
    "\n",
    "\n",
    "arrancar = Servidor()\n"
   ]
  },
  {
   "cell_type": "code",
   "execution_count": null,
   "id": "1218e1c2-e705-4aac-8933-79022baacdc9",
   "metadata": {},
   "outputs": [],
   "source": []
  }
 ],
 "metadata": {
  "kernelspec": {
   "display_name": "Python 3 (ipykernel)",
   "language": "python",
   "name": "python3"
  },
  "language_info": {
   "codemirror_mode": {
    "name": "ipython",
    "version": 3
   },
   "file_extension": ".py",
   "mimetype": "text/x-python",
   "name": "python",
   "nbconvert_exporter": "python",
   "pygments_lexer": "ipython3",
   "version": "3.10.7"
  }
 },
 "nbformat": 4,
 "nbformat_minor": 5
}
